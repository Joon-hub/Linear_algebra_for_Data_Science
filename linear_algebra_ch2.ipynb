{
  "nbformat": 4,
  "nbformat_minor": 0,
  "metadata": {
    "colab": {
      "provenance": []
    },
    "kernelspec": {
      "name": "python3",
      "display_name": "Python 3"
    },
    "language_info": {
      "name": "python"
    }
  },
  "cells": [
    {
      "cell_type": "code",
      "execution_count": 1,
      "metadata": {
        "colab": {
          "base_uri": "https://localhost:8080/"
        },
        "id": "k7l_PDGdUHVr",
        "outputId": "384b6d7a-6a91-4427-c96d-33148f35dfcd"
      },
      "outputs": [
        {
          "output_type": "stream",
          "name": "stdout",
          "text": [
            "[[11 22 33]\n",
            " [14 25 36]\n",
            " [17 28 39]]\n"
          ]
        }
      ],
      "source": [
        "import numpy as np\n",
        "\n",
        "# A matrix of shape (3, 3)\n",
        "matrix = np.array([[1, 2, 3],\n",
        "                   [4, 5, 6],\n",
        "                   [7, 8, 9]])\n",
        "\n",
        "# A vector of shape (1, 3)\n",
        "vector = np.array([10, 20, 30])\n",
        "\n",
        "# Broadcasting the vector across the matrix\n",
        "result = matrix + vector\n",
        "\n",
        "print(result)\n"
      ]
    },
    {
      "cell_type": "code",
      "source": [
        "vector.shape"
      ],
      "metadata": {
        "colab": {
          "base_uri": "https://localhost:8080/"
        },
        "id": "ZkYsMp7fUIRM",
        "outputId": "d4635575-792f-4cfa-c025-f202f0f19c0d"
      },
      "execution_count": 2,
      "outputs": [
        {
          "output_type": "execute_result",
          "data": {
            "text/plain": [
              "(3,)"
            ]
          },
          "metadata": {},
          "execution_count": 2
        }
      ]
    },
    {
      "cell_type": "code",
      "source": [
        "vector = np.array([[10, 20, 30]])\n",
        "result = matrix + vector\n",
        "print(result)\n",
        "print(vector.shape)"
      ],
      "metadata": {
        "colab": {
          "base_uri": "https://localhost:8080/"
        },
        "id": "QnoYmpXUUPF3",
        "outputId": "c7110901-863a-480f-c7d2-cb0b91da8d23"
      },
      "execution_count": 12,
      "outputs": [
        {
          "output_type": "stream",
          "name": "stdout",
          "text": [
            "[[11 22 33]\n",
            " [14 25 36]\n",
            " [17 28 39]]\n",
            "(1, 3)\n"
          ]
        }
      ]
    },
    {
      "cell_type": "code",
      "source": [
        "vt = vector.T\n",
        "vt.shape"
      ],
      "metadata": {
        "colab": {
          "base_uri": "https://localhost:8080/"
        },
        "id": "QSXO-X2uUXGv",
        "outputId": "d1bda0c0-df02-4547-ea5e-868253fe8dab"
      },
      "execution_count": 14,
      "outputs": [
        {
          "output_type": "execute_result",
          "data": {
            "text/plain": [
              "(3, 1)"
            ]
          },
          "metadata": {},
          "execution_count": 14
        }
      ]
    },
    {
      "cell_type": "code",
      "source": [
        "vt + matrix"
      ],
      "metadata": {
        "colab": {
          "base_uri": "https://localhost:8080/"
        },
        "id": "hoZZr161UiSq",
        "outputId": "9e1e646e-a907-477e-bc19-232388649f62"
      },
      "execution_count": 15,
      "outputs": [
        {
          "output_type": "execute_result",
          "data": {
            "text/plain": [
              "array([[11, 12, 13],\n",
              "       [24, 25, 26],\n",
              "       [37, 38, 39]])"
            ]
          },
          "metadata": {},
          "execution_count": 15
        }
      ]
    },
    {
      "cell_type": "code",
      "source": [
        "v5 = np.array([10,20,30,40,50])\n",
        "print(v5.shape)\n",
        "v5 + matrix"
      ],
      "metadata": {
        "colab": {
          "base_uri": "https://localhost:8080/",
          "height": 198
        },
        "id": "_KWuML-bUrqz",
        "outputId": "e7d85c5a-22bf-418e-c9f3-3dddc442e1cf"
      },
      "execution_count": 18,
      "outputs": [
        {
          "output_type": "stream",
          "name": "stdout",
          "text": [
            "(5,)\n"
          ]
        },
        {
          "output_type": "error",
          "ename": "ValueError",
          "evalue": "operands could not be broadcast together with shapes (5,) (3,3) ",
          "traceback": [
            "\u001b[0;31m---------------------------------------------------------------------------\u001b[0m",
            "\u001b[0;31mValueError\u001b[0m                                Traceback (most recent call last)",
            "\u001b[0;32m<ipython-input-18-f083f501e499>\u001b[0m in \u001b[0;36m<cell line: 3>\u001b[0;34m()\u001b[0m\n\u001b[1;32m      1\u001b[0m \u001b[0mv5\u001b[0m \u001b[0;34m=\u001b[0m \u001b[0mnp\u001b[0m\u001b[0;34m.\u001b[0m\u001b[0marray\u001b[0m\u001b[0;34m(\u001b[0m\u001b[0;34m[\u001b[0m\u001b[0;36m10\u001b[0m\u001b[0;34m,\u001b[0m\u001b[0;36m20\u001b[0m\u001b[0;34m,\u001b[0m\u001b[0;36m30\u001b[0m\u001b[0;34m,\u001b[0m\u001b[0;36m40\u001b[0m\u001b[0;34m,\u001b[0m\u001b[0;36m50\u001b[0m\u001b[0;34m]\u001b[0m\u001b[0;34m)\u001b[0m\u001b[0;34m\u001b[0m\u001b[0;34m\u001b[0m\u001b[0m\n\u001b[1;32m      2\u001b[0m \u001b[0mprint\u001b[0m\u001b[0;34m(\u001b[0m\u001b[0mv5\u001b[0m\u001b[0;34m.\u001b[0m\u001b[0mshape\u001b[0m\u001b[0;34m)\u001b[0m\u001b[0;34m\u001b[0m\u001b[0;34m\u001b[0m\u001b[0m\n\u001b[0;32m----> 3\u001b[0;31m \u001b[0mv5\u001b[0m\u001b[0;34m+\u001b[0m\u001b[0mmatrix\u001b[0m\u001b[0;34m\u001b[0m\u001b[0;34m\u001b[0m\u001b[0m\n\u001b[0m",
            "\u001b[0;31mValueError\u001b[0m: operands could not be broadcast together with shapes (5,) (3,3) "
          ]
        }
      ]
    },
    {
      "cell_type": "code",
      "source": [
        "v5 = np.array([[10,20,30,40,50]])\n",
        "print(v5.shape)\n",
        "v5 + matrix"
      ],
      "metadata": {
        "colab": {
          "base_uri": "https://localhost:8080/",
          "height": 198
        },
        "id": "AH0ZXg9hVkRr",
        "outputId": "7a54b45d-49af-4e66-fe90-61c0af582399"
      },
      "execution_count": 19,
      "outputs": [
        {
          "output_type": "stream",
          "name": "stdout",
          "text": [
            "(1, 5)\n"
          ]
        },
        {
          "output_type": "error",
          "ename": "ValueError",
          "evalue": "operands could not be broadcast together with shapes (1,5) (3,3) ",
          "traceback": [
            "\u001b[0;31m---------------------------------------------------------------------------\u001b[0m",
            "\u001b[0;31mValueError\u001b[0m                                Traceback (most recent call last)",
            "\u001b[0;32m<ipython-input-19-2fe2f333c332>\u001b[0m in \u001b[0;36m<cell line: 3>\u001b[0;34m()\u001b[0m\n\u001b[1;32m      1\u001b[0m \u001b[0mv5\u001b[0m \u001b[0;34m=\u001b[0m \u001b[0mnp\u001b[0m\u001b[0;34m.\u001b[0m\u001b[0marray\u001b[0m\u001b[0;34m(\u001b[0m\u001b[0;34m[\u001b[0m\u001b[0;34m[\u001b[0m\u001b[0;36m10\u001b[0m\u001b[0;34m,\u001b[0m\u001b[0;36m20\u001b[0m\u001b[0;34m,\u001b[0m\u001b[0;36m30\u001b[0m\u001b[0;34m,\u001b[0m\u001b[0;36m40\u001b[0m\u001b[0;34m,\u001b[0m\u001b[0;36m50\u001b[0m\u001b[0;34m]\u001b[0m\u001b[0;34m]\u001b[0m\u001b[0;34m)\u001b[0m\u001b[0;34m\u001b[0m\u001b[0;34m\u001b[0m\u001b[0m\n\u001b[1;32m      2\u001b[0m \u001b[0mprint\u001b[0m\u001b[0;34m(\u001b[0m\u001b[0mv5\u001b[0m\u001b[0;34m.\u001b[0m\u001b[0mshape\u001b[0m\u001b[0;34m)\u001b[0m\u001b[0;34m\u001b[0m\u001b[0;34m\u001b[0m\u001b[0m\n\u001b[0;32m----> 3\u001b[0;31m \u001b[0mv5\u001b[0m \u001b[0;34m+\u001b[0m \u001b[0mmatrix\u001b[0m\u001b[0;34m\u001b[0m\u001b[0;34m\u001b[0m\u001b[0m\n\u001b[0m",
            "\u001b[0;31mValueError\u001b[0m: operands could not be broadcast together with shapes (1,5) (3,3) "
          ]
        }
      ]
    },
    {
      "cell_type": "code",
      "source": [
        "v5 = np.array([[10],[20],[30]])\n",
        "print(v5.shape)\n",
        "v5 + matrix"
      ],
      "metadata": {
        "colab": {
          "base_uri": "https://localhost:8080/"
        },
        "id": "5H5v2aO4Vxk7",
        "outputId": "6e997265-0646-4a29-f812-0fe860bbc8d5"
      },
      "execution_count": 20,
      "outputs": [
        {
          "output_type": "stream",
          "name": "stdout",
          "text": [
            "(3, 1)\n"
          ]
        },
        {
          "output_type": "execute_result",
          "data": {
            "text/plain": [
              "array([[11, 12, 13],\n",
              "       [24, 25, 26],\n",
              "       [37, 38, 39]])"
            ]
          },
          "metadata": {},
          "execution_count": 20
        }
      ]
    },
    {
      "cell_type": "code",
      "source": [
        "v5 = np.array([[10],[20],[30],[40],[50]])\n",
        "print(v5.shape)\n",
        "v5 + matrix"
      ],
      "metadata": {
        "colab": {
          "base_uri": "https://localhost:8080/",
          "height": 198
        },
        "id": "AzGMRokkV9ah",
        "outputId": "166423d4-ad7d-4f26-f542-0fe2f5906501"
      },
      "execution_count": 21,
      "outputs": [
        {
          "output_type": "stream",
          "name": "stdout",
          "text": [
            "(5, 1)\n"
          ]
        },
        {
          "output_type": "error",
          "ename": "ValueError",
          "evalue": "operands could not be broadcast together with shapes (5,1) (3,3) ",
          "traceback": [
            "\u001b[0;31m---------------------------------------------------------------------------\u001b[0m",
            "\u001b[0;31mValueError\u001b[0m                                Traceback (most recent call last)",
            "\u001b[0;32m<ipython-input-21-3e9dbe59b1f4>\u001b[0m in \u001b[0;36m<cell line: 3>\u001b[0;34m()\u001b[0m\n\u001b[1;32m      1\u001b[0m \u001b[0mv5\u001b[0m \u001b[0;34m=\u001b[0m \u001b[0mnp\u001b[0m\u001b[0;34m.\u001b[0m\u001b[0marray\u001b[0m\u001b[0;34m(\u001b[0m\u001b[0;34m[\u001b[0m\u001b[0;34m[\u001b[0m\u001b[0;36m10\u001b[0m\u001b[0;34m]\u001b[0m\u001b[0;34m,\u001b[0m\u001b[0;34m[\u001b[0m\u001b[0;36m20\u001b[0m\u001b[0;34m]\u001b[0m\u001b[0;34m,\u001b[0m\u001b[0;34m[\u001b[0m\u001b[0;36m30\u001b[0m\u001b[0;34m]\u001b[0m\u001b[0;34m,\u001b[0m\u001b[0;34m[\u001b[0m\u001b[0;36m40\u001b[0m\u001b[0;34m]\u001b[0m\u001b[0;34m,\u001b[0m\u001b[0;34m[\u001b[0m\u001b[0;36m50\u001b[0m\u001b[0;34m]\u001b[0m\u001b[0;34m]\u001b[0m\u001b[0;34m)\u001b[0m\u001b[0;34m\u001b[0m\u001b[0;34m\u001b[0m\u001b[0m\n\u001b[1;32m      2\u001b[0m \u001b[0mprint\u001b[0m\u001b[0;34m(\u001b[0m\u001b[0mv5\u001b[0m\u001b[0;34m.\u001b[0m\u001b[0mshape\u001b[0m\u001b[0;34m)\u001b[0m\u001b[0;34m\u001b[0m\u001b[0;34m\u001b[0m\u001b[0m\n\u001b[0;32m----> 3\u001b[0;31m \u001b[0mv5\u001b[0m \u001b[0;34m+\u001b[0m \u001b[0mmatrix\u001b[0m\u001b[0;34m\u001b[0m\u001b[0;34m\u001b[0m\u001b[0m\n\u001b[0m",
            "\u001b[0;31mValueError\u001b[0m: operands could not be broadcast together with shapes (5,1) (3,3) "
          ]
        }
      ]
    },
    {
      "cell_type": "markdown",
      "source": [
        "\n",
        "Exercise 2-1.\n",
        "The online code repository is “missing” code to create Figure 2-2. (It’s not really missing—I moved it into the solution to this exercise.) So, your goal here is to write your own code to produce Figure 2-2."
      ],
      "metadata": {
        "id": "5fVeI9LdrdyU"
      }
    },
    {
      "cell_type": "code",
      "source": [
        "import numpy as np\n",
        "import matplotlib.pyplot as plt\n",
        "\n",
        "# Define the vectors\n",
        "v = np.array([1, 2])\n",
        "w = np.array([5, 4])\n",
        "result = v + w\n",
        "\n",
        "# Create a plot\n",
        "fig, ax = plt.subplots()\n",
        "\n",
        "# Plot vector v (from origin)\n",
        "ax.quiver(0, 0, v[0], v[1], angles='xy', scale_units='xy', scale=1, color='r', label='v')\n",
        "\n",
        "# Plot vector w (from tip of v)\n",
        "ax.quiver(v[0], v[1], w[0], w[1], angles='xy', scale_units='xy', scale=1, color='g', label='w')\n",
        "\n",
        "# Plot resultant vector v + w (from origin to tip of w)\n",
        "ax.quiver(0, 0, result[0], result[1], angles='xy', scale_units='xy', scale=1, color='b', label='v + w')\n",
        "\n",
        "# Adjust the limits of the plot to fit the vectors\n",
        "ax.set_xlim([-0.5, 7])\n",
        "ax.set_ylim([-0.5, 7])\n",
        "\n",
        "# Add grid and labels\n",
        "plt.grid(True, linestyle='--', alpha=0.7)\n",
        "plt.legend()\n",
        "plt.axhline(0, color='black', linewidth=0.5)\n",
        "plt.axvline(0, color='black', linewidth=0.5)\n",
        "plt.xlabel('X axis')\n",
        "plt.ylabel('Y axis')\n",
        "\n",
        "# Show plot\n",
        "plt.show()"
      ],
      "metadata": {
        "colab": {
          "base_uri": "https://localhost:8080/",
          "height": 455
        },
        "id": "lpCCxjQtWFcD",
        "outputId": "73a67c4f-0cda-4672-8ac7-3d83009d5ee4"
      },
      "execution_count": 2,
      "outputs": [
        {
          "output_type": "display_data",
          "data": {
            "text/plain": [
              "<Figure size 640x480 with 1 Axes>"
            ],
            "image/png": "[encoded data removed]"
          },
          "metadata": {}
        }
      ]
    },
    {
      "cell_type": "code",
      "source": [
        "v = np.array([1,2])\n",
        "w = np.array([4,-6])\n",
        "result = v-w\n",
        "print(result)\n",
        "\n",
        "fig,ax = plt.subplots()\n",
        "ax.quiver(0,0,v[0],v[1],angles='xy',scale_units='xy',scale=1,color='r',label='v')\n",
        "ax.quiver(0,0,w[0],w[1],angles='xy',scale_units='xy',scale=1,color='g',label='w')\n",
        "ax.quiver(w[0],w[1],result[0],result[1],angles='xy',scale_units='xy',scale=1,color='b',label='v-w')\n",
        "ax.set_xlim([-2,7])\n",
        "ax.set_ylim([-7,4])\n",
        "plt.grid(True,linestyle='--',alpha=0.7)\n",
        "plt.axhline(0, color='black', linewidth=0.5)\n",
        "plt.axvline(0, color='black', linewidth=0.5)\n",
        "plt.xlabel('X axis')\n",
        "plt.ylabel('Y axis')\n",
        "plt.legend()\n",
        "plt.show()"
      ],
      "metadata": {
        "colab": {
          "base_uri": "https://localhost:8080/",
          "height": 473
        },
        "id": "2oxOjieNr_Wd",
        "outputId": "04271725-5714-42aa-87ee-c76850ba6376"
      },
      "execution_count": 21,
      "outputs": [
        {
          "output_type": "stream",
          "name": "stdout",
          "text": [
            "[-3  8]\n"
          ]
        },
        {
          "output_type": "display_data",
          "data": {
            "text/plain": [
              "<Figure size 640x480 with 1 Axes>"
            ],
            "image/png": "[encoded data removed]"
          },
          "metadata": {}
        }
      ]
    },
    {
      "cell_type": "markdown",
      "source": [
        "Q2. Write an algorithm that computes the norm of a vector by translating Equation 2-7 into code. Confirm, using random vectors with different dimensionalities and orientations, that you get the same result as np.linalg.norm(). This exercise is designed to give you more experience with indexing NumPy arrays and translating formulas into code; in practice, it’s often easier to use np.linalg.norm().  \n",
        "\n",
        "\n",
        "Equation 2-7. The norm of a vector\n",
        "∥v∥=∑n v2 i=1 i\n"
      ],
      "metadata": {
        "id": "ZxKuGpqDCa_x"
      }
    },
    {
      "cell_type": "code",
      "source": [
        "v = np.array([1,2,3,4])\n",
        "len(v)"
      ],
      "metadata": {
        "colab": {
          "base_uri": "https://localhost:8080/"
        },
        "id": "wuxM5V5nsGbU",
        "outputId": "d5839b81-6e70-49ee-c679-672f26a40675"
      },
      "execution_count": 31,
      "outputs": [
        {
          "output_type": "execute_result",
          "data": {
            "text/plain": [
              "4"
            ]
          },
          "metadata": {},
          "execution_count": 31
        }
      ]
    },
    {
      "cell_type": "code",
      "source": [
        "def vec_magnitude(v):\n",
        "    sum = 0\n",
        "    for i in range(len(v)):\n",
        "      v2 = v[i]**2\n",
        "      sum = sum + v2\n",
        "    return np.sqrt(sum)\n",
        "\n",
        "vec_magnitude(v)"
      ],
      "metadata": {
        "colab": {
          "base_uri": "https://localhost:8080/"
        },
        "id": "c4-hqqEqDUh7",
        "outputId": "4507521a-cfe8-4ad5-e5d4-79ce138b2323"
      },
      "execution_count": 37,
      "outputs": [
        {
          "output_type": "execute_result",
          "data": {
            "text/plain": [
              "5.477225575051661"
            ]
          },
          "metadata": {},
          "execution_count": 37
        }
      ]
    },
    {
      "cell_type": "code",
      "source": [
        "np.linalg.norm(v)"
      ],
      "metadata": {
        "colab": {
          "base_uri": "https://localhost:8080/"
        },
        "id": "WuBqz8hYDaYV",
        "outputId": "e09f1db6-38d3-4a90-a687-00839a09923b"
      },
      "execution_count": 33,
      "outputs": [
        {
          "output_type": "execute_result",
          "data": {
            "text/plain": [
              "5.477225575051661"
            ]
          },
          "metadata": {},
          "execution_count": 33
        }
      ]
    },
    {
      "cell_type": "markdown",
      "source": [
        "Q3. Create a Python function that will take a vector as input and output a unit vector in the same direction. What happens when you input the zeros vector?"
      ],
      "metadata": {
        "id": "_KctbMOZEXI1"
      }
    },
    {
      "cell_type": "code",
      "source": [
        "unit_vec = v/vec_magnitude(v)\n",
        "print(unit_vec)"
      ],
      "metadata": {
        "colab": {
          "base_uri": "https://localhost:8080/"
        },
        "id": "6iAvb6gSD3WJ",
        "outputId": "0244e2c3-b969-460b-bbd6-f8ef5d178dab"
      },
      "execution_count": 39,
      "outputs": [
        {
          "output_type": "stream",
          "name": "stdout",
          "text": [
            "[0.18257419 0.36514837 0.54772256 0.73029674]\n"
          ]
        }
      ]
    },
    {
      "cell_type": "markdown",
      "source": [
        "Q4. You know how to create unit vectors; what if you want to create a vector of any arbitrary magnitude? Write a Python function that will take a vector and a desired magnitude as inputs and will return a vector in the same direction but with a magnitude corresponding to the second input."
      ],
      "metadata": {
        "id": "n7ydgeZNE1b0"
      }
    },
    {
      "cell_type": "code",
      "source": [
        "desired_magnitude = 10\n",
        "vec = np.array([2,3,5])\n",
        "\n",
        "def scale_vector(vector, desired_magnitude):\n",
        "    if np.linalg.norm(vector) == 0:\n",
        "        return vector\n",
        "    else:\n",
        "      current_magnitude = np.linalg.norm(vector)\n",
        "      scaling_factor = desired_magnitude / current_magnitude\n",
        "      scaled_vector = vector * scaling_factor\n",
        "      return scaled_vector\n",
        "\n",
        "scaled_vector = scale_vector(vec, desired_magnitude)\n",
        "print(scaled_vector)\n"
      ],
      "metadata": {
        "colab": {
          "base_uri": "https://localhost:8080/"
        },
        "id": "WgfK1k0KEmSt",
        "outputId": "26bcdebd-a256-4514-fd13-15300cbfde77"
      },
      "execution_count": 44,
      "outputs": [
        {
          "output_type": "stream",
          "name": "stdout",
          "text": [
            "[3.24442842 4.86664263 8.11107106]\n"
          ]
        }
      ]
    },
    {
      "cell_type": "code",
      "source": [
        "scaled_vector = scale_vector(vec, desired_magnitude)\n",
        "print(scaled_vector)\n",
        "print(\"Magnitude of scaled vector:\", np.linalg.norm(scaled_vector))"
      ],
      "metadata": {
        "colab": {
          "base_uri": "https://localhost:8080/"
        },
        "id": "Of-Mqk3ZFVQI",
        "outputId": "90fadddc-4166-415b-d719-152ec1dae60e"
      },
      "execution_count": 45,
      "outputs": [
        {
          "output_type": "stream",
          "name": "stdout",
          "text": [
            "[3.24442842 4.86664263 8.11107106]\n",
            "Magnitude of scaled vector: 10.000000000000002\n"
          ]
        }
      ]
    },
    {
      "cell_type": "markdown",
      "source": [
        "\n",
        "Q5.\n",
        "Write a for loop to transpose a row vector into a column vector without using a built-in function or method such as np.transpose() or v.T. This exercise will help you create and index orientation-endowed vectors."
      ],
      "metadata": {
        "id": "XDL0iGzXHbhC"
      }
    },
    {
      "cell_type": "code",
      "source": [
        "row_vec = np.array([2,4,6,8])\n",
        "\n",
        "def transpose_fun(vector):\n",
        "  col_vec = []\n",
        "  for i in row_vec:\n",
        "    col_vec.append([i])\n",
        "  return np.array(col_vec)\n",
        "\n",
        "col_vec = transpose_fun(row_vec)\n",
        "print(col_vec)\n",
        "\n"
      ],
      "metadata": {
        "colab": {
          "base_uri": "https://localhost:8080/"
        },
        "id": "DReuvmo9HnJt",
        "outputId": "18579227-1694-49f5-86b6-92932757c052"
      },
      "execution_count": 74,
      "outputs": [
        {
          "output_type": "stream",
          "name": "stdout",
          "text": [
            "[[2]\n",
            " [4]\n",
            " [6]\n",
            " [8]]\n"
          ]
        }
      ]
    },
    {
      "cell_type": "markdown",
      "source": [
        "Exercise 2-6.\n",
        "Here is an interesting fact: you can compute the squared norm of a vector as the dot product of that vector with itself. Look back to Equation 2-8 to convince yourself of this equivalence. Then confirm it using Python."
      ],
      "metadata": {
        "id": "5fLY91cQMKth"
      }
    },
    {
      "cell_type": "code",
      "source": [],
      "metadata": {
        "id": "zRAmVp39OQTj"
      },
      "execution_count": null,
      "outputs": []
    }
  ]
}